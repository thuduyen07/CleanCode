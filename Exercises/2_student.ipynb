{
 "cells": [
  {
   "cell_type": "markdown",
   "metadata": {},
   "source": [
    "# Exercise Requirement\n",
    "\n",
    "1. Write a Student class to store student information, including: name, age, and score.\n",
    "\n",
    "2. Write a Classroom class to manage a list of students, with the following methods:\n",
    "    - add_student: Add a student to the class.\n",
    "    - remove_student: Remove a student from the class by name.\n",
    "    - get_average_score: Calculate the average score of the class.\n",
    "    \n",
    "Ensure your code is clear, understandable, and follows clean code principles."
   ]
  },
  {
   "cell_type": "markdown",
   "metadata": {},
   "source": [
    "# Clean Code Notes\n",
    "\n",
    "1. **Use clear and descriptive variable and function names:** Ensure that the names of variables and functions clearly describe their meaning and functionality.\n",
    "\n",
    "2. **Write comments (docstring):** Explain the function of classes, methods, and their input/output parameters.\n",
    "\n",
    "3. **Ensure code readability:** Use whitespace and parentheses to make the code more readable.\n",
    "\n",
    "4. **Break down logic into smaller functions:** If a function is too long or complex, break it down into smaller, manageable functions for easier maintenance."
   ]
  },
  {
   "cell_type": "markdown",
   "metadata": {},
   "source": [
    "# My solution"
   ]
  },
  {
   "cell_type": "code",
   "execution_count": 12,
   "metadata": {},
   "outputs": [
    {
     "name": "stdout",
     "output_type": "stream",
     "text": [
      "Initialize class A with Alice and Bob...\n",
      "Class A: ['Alice', 'Bob']\n",
      "\n",
      "Add Charlie to class A...\n",
      "Class A: ['Alice', 'Bob', 'Charlie']\n",
      "Class A's average grade: 80.0\n",
      "\n",
      "Remove Charlie from class A...\n",
      "Class A: ['Alice', 'Bob']\n",
      "Class A's average grade: 85.0\n"
     ]
    }
   ],
   "source": [
    "class Student:\n",
    "    def __init__ (self, name: str, age: int, grade: float) -> None:\n",
    "        \"\"\"\n",
    "        Initialize a new student\n",
    "\n",
    "        Parameters:\n",
    "        name (str): The name of the student\n",
    "        age (int): The age of the student\n",
    "        grade (float): The grade of the student\n",
    "\n",
    "        Returns:\n",
    "        None\n",
    "        \"\"\"\n",
    "        self.name = name\n",
    "        self.age = age\n",
    "        self.grade = grade\n",
    "\n",
    "class Classroom:\n",
    "    def __init__ (self, students: list[Student]) -> None:\n",
    "        \"\"\"\n",
    "        Intialize a new classroom\n",
    "\n",
    "        Parameters:\n",
    "        students (list[Student]): The students in the classroom\n",
    "\n",
    "        Returns: \n",
    "        None\n",
    "        \"\"\"\n",
    "        self.students = students\n",
    "\n",
    "    def add_student (self, student: Student) -> None:\n",
    "        \"\"\"\n",
    "        Add a student to the classroom\n",
    "\n",
    "        Parameters: \n",
    "        student (Student): The student to add to the classroom\n",
    "\n",
    "        Returns:\n",
    "        None\n",
    "        \"\"\"\n",
    "        self.students.append(student)\n",
    "\n",
    "    def remove_student (self, student: Student) -> None:\n",
    "        \"\"\"\n",
    "        Remove a student from the classroom\n",
    "\n",
    "        Parameters: \n",
    "        student (Student): The student to remove from the classroom\n",
    "\n",
    "        Returns:\n",
    "        None\n",
    "        \"\"\"\n",
    "        self.students.remove(student)\n",
    "\n",
    "    def get_average_grade (self) -> float:\n",
    "        \"\"\"\n",
    "        Get the average grade of the students in the classroom\n",
    "\n",
    "        Parameters: \n",
    "        None\n",
    "\n",
    "        Returns:\n",
    "        float: The average grade of the students in the classroom\n",
    "        \"\"\"\n",
    "        return sum([student.grade for student in self.students]) / len(self.students)\n",
    "    \n",
    "# Example usage\n",
    "student1 = Student(name=\"Alice\", age=18, grade=90)\n",
    "student2 = Student(name=\"Bob\", age=19, grade=80)\n",
    "student3 = Student(name=\"Charlie\", age=20, grade=70)\n",
    "\n",
    "print(\"Initialize class A with Alice and Bob...\")\n",
    "classA = Classroom(students=[student1, student2])\n",
    "print(f\"Class A: {[student.name for student in classA.students if student.name is not None]}\")\n",
    "print()\n",
    "\n",
    "print(\"Add Charlie to class A...\")\n",
    "classA.add_student(student=student3)\n",
    "print(f\"Class A: {[student.name for student in classA.students if student.name is not None]}\")\n",
    "print(f\"Class A's average grade: {classA.get_average_grade()}\")\n",
    "print()\n",
    "\n",
    "print(\"Remove Charlie from class A...\")\n",
    "classA.remove_student(student=student3)\n",
    "print(f\"Class A: {[student.name for student in classA.students if student.name is not None]}\")\n",
    "print(f\"Class A's average grade: {classA.get_average_grade()}\")"
   ]
  },
  {
   "cell_type": "code",
   "execution_count": null,
   "metadata": {},
   "outputs": [],
   "source": []
  }
 ],
 "metadata": {
  "kernelspec": {
   "display_name": "Python 3",
   "language": "python",
   "name": "python3"
  },
  "language_info": {
   "codemirror_mode": {
    "name": "ipython",
    "version": 3
   },
   "file_extension": ".py",
   "mimetype": "text/x-python",
   "name": "python",
   "nbconvert_exporter": "python",
   "pygments_lexer": "ipython3",
   "version": "3.10.11"
  }
 },
 "nbformat": 4,
 "nbformat_minor": 2
}
