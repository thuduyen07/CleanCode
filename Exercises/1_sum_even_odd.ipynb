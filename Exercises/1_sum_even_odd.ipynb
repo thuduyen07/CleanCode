{
 "cells": [
  {
   "cell_type": "markdown",
   "metadata": {},
   "source": [
    "## Exercise Requirement\n",
    "\n",
    "1. Write a function sum_even_odd that takes a list of integers and returns a tuple containing the sum of even numbers and the sum of odd numbers.\n",
    "\n",
    "2. Ensure your code is clear, understandable, and follows clean code principles."
   ]
  },
  {
   "cell_type": "code",
   "execution_count": 1,
   "metadata": {},
   "outputs": [
    {
     "name": "stdout",
     "output_type": "stream",
     "text": [
      "Sum of even numbers: 30\n",
      "Sum of odd numbers: 25\n"
     ]
    }
   ],
   "source": [
    "def sum_even_odd(numbers):\n",
    "    \"\"\"\n",
    "    Calculate the sum of even and odd numbers in a list of integers.\n",
    "    \n",
    "    Parameters:\n",
    "    numbers (list): List of integers.\n",
    "    \n",
    "    Returns:\n",
    "    tuple: A tuple containing two elements:\n",
    "           - Sum of even numbers\n",
    "           - Sum of odd numbers\n",
    "    \"\"\"\n",
    "    even_sum = 0\n",
    "    odd_sum = 0\n",
    "\n",
    "    for number in numbers:\n",
    "        if number % 2 == 0:\n",
    "            even_sum += number\n",
    "        else:\n",
    "            odd_sum += number\n",
    "\n",
    "    return even_sum, odd_sum\n",
    "\n",
    "# Example usage\n",
    "numbers = [1, 2, 3, 4, 5, 6, 7, 8, 9, 10]\n",
    "even_sum, odd_sum = sum_even_odd(numbers)\n",
    "print(f\"Sum of even numbers: {even_sum}\")\n",
    "print(f\"Sum of odd numbers: {odd_sum}\")\n"
   ]
  },
  {
   "cell_type": "markdown",
   "metadata": {},
   "source": [
    "## Clean Code Notes\n",
    "\n",
    "1. **Use clear and descriptive variable and function names:** Ensure that the names of variables and functions clearly describe their meaning and functionality. For example: sum_even_odd instead of calculate.\n",
    "\n",
    "2. **Write comments (docstring):** Explain the function's purpose and its input/output parameters.\n",
    "\n",
    "3. **Ensure code readability:** Use whitespace and parentheses to make the code more readable.\n",
    "\n",
    "4. **Break down logic into smaller functions:** If a function is too long or complex, break it down into smaller, manageable functions for easier maintenance.\n",
    "\n",
    "Try rewriting this code following the clean code principles and let me know the result!"
   ]
  },
  {
   "cell_type": "markdown",
   "metadata": {},
   "source": [
    "## My approach"
   ]
  },
  {
   "cell_type": "code",
   "execution_count": 2,
   "metadata": {},
   "outputs": [
    {
     "name": "stdout",
     "output_type": "stream",
     "text": [
      "Sum of even numbers: 30\n",
      "Sum of odd numbers: 25\n"
     ]
    }
   ],
   "source": [
    "def sum_even(numbers):\n",
    "    \"\"\"\n",
    "    Calculate the sum of even numbers in a list of integers.\n",
    "\n",
    "    Parameters:\n",
    "    numbers (list): List of integers.\n",
    "\n",
    "    Returns:\n",
    "    int: Sum of even numbers\n",
    "    \"\"\"\n",
    "    even_sum = 0\n",
    "    for number in numbers:\n",
    "        if number % 2 == 0:\n",
    "            even_sum += number\n",
    "\n",
    "    return even_sum\n",
    "\n",
    "def sum_odd(numbers):\n",
    "    \"\"\"Calculate the sum of odd numbers in a list of integers.\n",
    "    \n",
    "    Parameters:\n",
    "    numbers (list): List of integers.\n",
    "\n",
    "    Returns:\n",
    "    int: Sum of odd numbers\n",
    "    \"\"\"\n",
    "    odd_sum = 0\n",
    "    for number in numbers:\n",
    "        if number % 2 != 0:\n",
    "            odd_sum += number\n",
    "\n",
    "    return odd_sum\n",
    "\n",
    "def sum_even_odd(numbers):\n",
    "    \"\"\"\n",
    "    Calculate the sum of even and odd numbers in a list of integers.\n",
    "    \n",
    "    Parameters:\n",
    "    numbers (list): List of integers.\n",
    "    \n",
    "    Returns:\n",
    "    tuple: A tuple containing two elements:\n",
    "           - Sum of even numbers\n",
    "           - Sum of odd numbers\n",
    "    \"\"\"\n",
    "    return sum_even(numbers=numbers), sum_odd(numbers=numbers)\n",
    "\n",
    "# Example usage\n",
    "numbers = [1, 2, 3, 4, 5, 6, 7, 8, 9, 10]\n",
    "even_sum, odd_sum = sum_even_odd(numbers)\n",
    "print(f\"Sum of even numbers: {even_sum}\")\n",
    "print(f\"Sum of odd numbers: {odd_sum}\")\n"
   ]
  },
  {
   "cell_type": "markdown",
   "metadata": {},
   "source": [
    "## Advices\n",
    "Key Changes:\n",
    "1. Type Hinting: Added type hints to function parameters and return types.\n",
    "\n",
    "2. List Comprehensions: Used list comprehensions in sum_even and sum_odd functions to make the code more concise."
   ]
  },
  {
   "cell_type": "code",
   "execution_count": 3,
   "metadata": {},
   "outputs": [
    {
     "name": "stdout",
     "output_type": "stream",
     "text": [
      "Sum of even numbers: 30\n",
      "Sum of odd numbers: 25\n"
     ]
    }
   ],
   "source": [
    "def sum_even(numbers: list[int]) -> int:\n",
    "    \"\"\"\n",
    "    Calculate the sum of even numbers in a list of integers.\n",
    "\n",
    "    Parameters:\n",
    "    numbers (list[int]): List of integers.\n",
    "\n",
    "    Returns:\n",
    "    int: Sum of even numbers\n",
    "    \"\"\"\n",
    "\n",
    "    return sum(number for number in numbers if number % 2 ==0)\n",
    "\n",
    "def sum_odd(numbers: list[int]) -> int:\n",
    "    \"\"\"Calculate the sum of odd numbers in a list of integers.\n",
    "    \n",
    "    Parameters:\n",
    "    numbers (list[int]): List of integers.\n",
    "\n",
    "    Returns:\n",
    "    int: Sum of odd numbers\n",
    "    \"\"\"\n",
    "\n",
    "    return sum(number for number in numbers if number % 2 != 0)\n",
    "\n",
    "def sum_even_odd(numbers):\n",
    "    \"\"\"\n",
    "    Calculate the sum of even and odd numbers in a list of integers.\n",
    "    \n",
    "    Parameters:\n",
    "    numbers (list[int]): List of integers.\n",
    "    \n",
    "    Returns:\n",
    "    tuple[int, int]: A tuple containing two elements:\n",
    "           - Sum of even numbers\n",
    "           - Sum of odd numbers\n",
    "    \"\"\"\n",
    "    return sum_even(numbers=numbers), sum_odd(numbers=numbers)\n",
    "\n",
    "# Example usage\n",
    "numbers = [1, 2, 3, 4, 5, 6, 7, 8, 9, 10]\n",
    "even_sum, odd_sum = sum_even_odd(numbers)\n",
    "print(f\"Sum of even numbers: {even_sum}\")\n",
    "print(f\"Sum of odd numbers: {odd_sum}\")\n"
   ]
  },
  {
   "cell_type": "code",
   "execution_count": null,
   "metadata": {},
   "outputs": [],
   "source": []
  }
 ],
 "metadata": {
  "kernelspec": {
   "display_name": "Python 3",
   "language": "python",
   "name": "python3"
  },
  "language_info": {
   "codemirror_mode": {
    "name": "ipython",
    "version": 3
   },
   "file_extension": ".py",
   "mimetype": "text/x-python",
   "name": "python",
   "nbconvert_exporter": "python",
   "pygments_lexer": "ipython3",
   "version": "3.10.11"
  }
 },
 "nbformat": 4,
 "nbformat_minor": 2
}
